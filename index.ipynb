{
  "cells": [
    {
      "cell_type": "markdown",
      "metadata": {
        "id": "3s-pm_J4OQmG"
      },
      "source": [
        "# Polynomial Regression - Lab"
      ]
    },
    {
      "cell_type": "markdown",
      "metadata": {
        "id": "H-MtIk3SOQmH"
      },
      "source": [
        "## Introduction"
      ]
    },
    {
      "cell_type": "markdown",
      "metadata": {
        "id": "lY-TmXb6OQmH"
      },
      "source": [
        "In this lab, you'll practice your knowledge on adding polynomial terms to your regression model! "
      ]
    },
    {
      "cell_type": "markdown",
      "metadata": {
        "id": "7F83HOjPOQmH"
      },
      "source": [
        "## Objectives"
      ]
    },
    {
      "cell_type": "markdown",
      "metadata": {
        "id": "Vif7mAE_OQmH"
      },
      "source": [
        "You will be able to:\n",
        "\n",
        "* Determine if polynomial regression would be useful for a specific model or set of data\n",
        "* Create polynomial terms out of independent variables in linear regression"
      ]
    },
    {
      "cell_type": "markdown",
      "metadata": {
        "id": "j9drqhlJOQmH"
      },
      "source": [
        "## Dataset"
      ]
    },
    {
      "cell_type": "markdown",
      "metadata": {
        "id": "0s2m1FzMOQmI"
      },
      "source": [
        "For this lab you'll be using some generated data:"
      ]
    },
    {
      "cell_type": "code",
      "execution_count": 2,
      "metadata": {
        "id": "UWwwucewOQmI",
        "outputId": "89737c39-0c86-430a-89a7-a56ecdddc1a6",
        "colab": {
          "base_uri": "https://localhost:8080/",
          "height": 206
        }
      },
      "outputs": [
        {
          "output_type": "execute_result",
          "data": {
            "text/plain": [
              "          x         y\n",
              "0  0.000000  0.942870\n",
              "1  0.121212 -2.261629\n",
              "2  0.242424  3.100749\n",
              "3  0.363636 -0.285446\n",
              "4  0.484848 -1.012210"
            ],
            "text/html": [
              "\n",
              "  <div id=\"df-8b3e30b9-bf03-451a-8e72-698c5763d14a\">\n",
              "    <div class=\"colab-df-container\">\n",
              "      <div>\n",
              "<style scoped>\n",
              "    .dataframe tbody tr th:only-of-type {\n",
              "        vertical-align: middle;\n",
              "    }\n",
              "\n",
              "    .dataframe tbody tr th {\n",
              "        vertical-align: top;\n",
              "    }\n",
              "\n",
              "    .dataframe thead th {\n",
              "        text-align: right;\n",
              "    }\n",
              "</style>\n",
              "<table border=\"1\" class=\"dataframe\">\n",
              "  <thead>\n",
              "    <tr style=\"text-align: right;\">\n",
              "      <th></th>\n",
              "      <th>x</th>\n",
              "      <th>y</th>\n",
              "    </tr>\n",
              "  </thead>\n",
              "  <tbody>\n",
              "    <tr>\n",
              "      <th>0</th>\n",
              "      <td>0.000000</td>\n",
              "      <td>0.942870</td>\n",
              "    </tr>\n",
              "    <tr>\n",
              "      <th>1</th>\n",
              "      <td>0.121212</td>\n",
              "      <td>-2.261629</td>\n",
              "    </tr>\n",
              "    <tr>\n",
              "      <th>2</th>\n",
              "      <td>0.242424</td>\n",
              "      <td>3.100749</td>\n",
              "    </tr>\n",
              "    <tr>\n",
              "      <th>3</th>\n",
              "      <td>0.363636</td>\n",
              "      <td>-0.285446</td>\n",
              "    </tr>\n",
              "    <tr>\n",
              "      <th>4</th>\n",
              "      <td>0.484848</td>\n",
              "      <td>-1.012210</td>\n",
              "    </tr>\n",
              "  </tbody>\n",
              "</table>\n",
              "</div>\n",
              "      <button class=\"colab-df-convert\" onclick=\"convertToInteractive('df-8b3e30b9-bf03-451a-8e72-698c5763d14a')\"\n",
              "              title=\"Convert this dataframe to an interactive table.\"\n",
              "              style=\"display:none;\">\n",
              "        \n",
              "  <svg xmlns=\"http://www.w3.org/2000/svg\" height=\"24px\"viewBox=\"0 0 24 24\"\n",
              "       width=\"24px\">\n",
              "    <path d=\"M0 0h24v24H0V0z\" fill=\"none\"/>\n",
              "    <path d=\"M18.56 5.44l.94 2.06.94-2.06 2.06-.94-2.06-.94-.94-2.06-.94 2.06-2.06.94zm-11 1L8.5 8.5l.94-2.06 2.06-.94-2.06-.94L8.5 2.5l-.94 2.06-2.06.94zm10 10l.94 2.06.94-2.06 2.06-.94-2.06-.94-.94-2.06-.94 2.06-2.06.94z\"/><path d=\"M17.41 7.96l-1.37-1.37c-.4-.4-.92-.59-1.43-.59-.52 0-1.04.2-1.43.59L10.3 9.45l-7.72 7.72c-.78.78-.78 2.05 0 2.83L4 21.41c.39.39.9.59 1.41.59.51 0 1.02-.2 1.41-.59l7.78-7.78 2.81-2.81c.8-.78.8-2.07 0-2.86zM5.41 20L4 18.59l7.72-7.72 1.47 1.35L5.41 20z\"/>\n",
              "  </svg>\n",
              "      </button>\n",
              "      \n",
              "  <style>\n",
              "    .colab-df-container {\n",
              "      display:flex;\n",
              "      flex-wrap:wrap;\n",
              "      gap: 12px;\n",
              "    }\n",
              "\n",
              "    .colab-df-convert {\n",
              "      background-color: #E8F0FE;\n",
              "      border: none;\n",
              "      border-radius: 50%;\n",
              "      cursor: pointer;\n",
              "      display: none;\n",
              "      fill: #1967D2;\n",
              "      height: 32px;\n",
              "      padding: 0 0 0 0;\n",
              "      width: 32px;\n",
              "    }\n",
              "\n",
              "    .colab-df-convert:hover {\n",
              "      background-color: #E2EBFA;\n",
              "      box-shadow: 0px 1px 2px rgba(60, 64, 67, 0.3), 0px 1px 3px 1px rgba(60, 64, 67, 0.15);\n",
              "      fill: #174EA6;\n",
              "    }\n",
              "\n",
              "    [theme=dark] .colab-df-convert {\n",
              "      background-color: #3B4455;\n",
              "      fill: #D2E3FC;\n",
              "    }\n",
              "\n",
              "    [theme=dark] .colab-df-convert:hover {\n",
              "      background-color: #434B5C;\n",
              "      box-shadow: 0px 1px 3px 1px rgba(0, 0, 0, 0.15);\n",
              "      filter: drop-shadow(0px 1px 2px rgba(0, 0, 0, 0.3));\n",
              "      fill: #FFFFFF;\n",
              "    }\n",
              "  </style>\n",
              "\n",
              "      <script>\n",
              "        const buttonEl =\n",
              "          document.querySelector('#df-8b3e30b9-bf03-451a-8e72-698c5763d14a button.colab-df-convert');\n",
              "        buttonEl.style.display =\n",
              "          google.colab.kernel.accessAllowed ? 'block' : 'none';\n",
              "\n",
              "        async function convertToInteractive(key) {\n",
              "          const element = document.querySelector('#df-8b3e30b9-bf03-451a-8e72-698c5763d14a');\n",
              "          const dataTable =\n",
              "            await google.colab.kernel.invokeFunction('convertToInteractive',\n",
              "                                                     [key], {});\n",
              "          if (!dataTable) return;\n",
              "\n",
              "          const docLinkHtml = 'Like what you see? Visit the ' +\n",
              "            '<a target=\"_blank\" href=https://colab.research.google.com/notebooks/data_table.ipynb>data table notebook</a>'\n",
              "            + ' to learn more about interactive tables.';\n",
              "          element.innerHTML = '';\n",
              "          dataTable['output_type'] = 'display_data';\n",
              "          await google.colab.output.renderOutput(dataTable, element);\n",
              "          const docLink = document.createElement('div');\n",
              "          docLink.innerHTML = docLinkHtml;\n",
              "          element.appendChild(docLink);\n",
              "        }\n",
              "      </script>\n",
              "    </div>\n",
              "  </div>\n",
              "  "
            ]
          },
          "metadata": {},
          "execution_count": 2
        }
      ],
      "source": [
        "# Run this cell without changes\n",
        "import numpy as np\n",
        "import pandas as pd\n",
        "import matplotlib.pyplot as plt\n",
        "%matplotlib inline\n",
        "\n",
        "df = pd.read_csv('https://raw.githubusercontent.com/bmjaron/dsc-polynomial-regression-lab-v2-5/master/sample_data.csv')\n",
        "df.head()"
      ]
    },
    {
      "cell_type": "markdown",
      "metadata": {
        "id": "Gd7hI7oROQmI"
      },
      "source": [
        "Let's check out a scatter plot of `x` vs. `y`: "
      ]
    },
    {
      "cell_type": "code",
      "execution_count": 3,
      "metadata": {
        "id": "qg15mFqhOQmI",
        "outputId": "c953a917-cf76-47f9-db55-a51f966cd0a3",
        "colab": {
          "base_uri": "https://localhost:8080/",
          "height": 449
        }
      },
      "outputs": [
        {
          "output_type": "display_data",
          "data": {
            "text/plain": [
              "<Figure size 640x480 with 1 Axes>"
            ],
            "image/png": "[encoded data removed]"
          },
          "metadata": {}
        }
      ],
      "source": [
        "# Run this cell without changes\n",
        "df.plot.scatter(x=\"x\", y=\"y\");"
      ]
    },
    {
      "cell_type": "markdown",
      "metadata": {
        "id": "qONTogn8OQmI"
      },
      "source": [
        "You will notice that the data is clearly of non-linear shape. Begin to think about what degree polynomial you believe will fit it best.\n",
        "\n",
        "You will fit several different models with different polynomial degrees, then plot them in the same plot at the end."
      ]
    },
    {
      "cell_type": "code",
      "execution_count": 4,
      "metadata": {
        "id": "GFBPNGQ_OQmJ"
      },
      "outputs": [],
      "source": [
        "# Your code here - import StatsModels and separate the data into X and y\n",
        "import statsmodels.api as sm \n",
        "\n",
        "y = df['y']\n",
        "x = df[['x']]"
      ]
    },
    {
      "cell_type": "markdown",
      "metadata": {
        "id": "sHYzltJdOQmJ"
      },
      "source": [
        "## Build and Evaluate a Quadratic Model\n",
        "\n",
        "This model should include a constant, `x`, and `x` squared. You can use `pandas` or `PolynomialFeatures` to create the squared term."
      ]
    },
    {
      "cell_type": "code",
      "execution_count": 5,
      "metadata": {
        "id": "Q1jFxwj3OQmJ"
      },
      "outputs": [],
      "source": [
        "# Your code here - prepare quadratic data and fit a model\n",
        "x_2 = x.copy()\n",
        "x_2['x^2'] = x_2['x']**2"
      ]
    },
    {
      "cell_type": "code",
      "execution_count": null,
      "metadata": {
        "id": "S6GcVtWoOQmJ"
      },
      "outputs": [],
      "source": [
        "# Your code here - evaluate (adjusted) R-Squared and coefficient p-values\n"
      ]
    },
    {
      "cell_type": "code",
      "execution_count": null,
      "metadata": {
        "id": "Pq4qj5hbOQmJ"
      },
      "outputs": [],
      "source": [
        "# Your written answer here - summarize findings\n"
      ]
    },
    {
      "cell_type": "markdown",
      "metadata": {
        "id": "31uWYvelOQmJ"
      },
      "source": [
        "<details>\n",
        "    <summary style=\"cursor: pointer\"><b>Answer (click to reveal)</b></summary>\n",
        "    \n",
        "This is not a good model. Because we have multiple terms and are explaining so little of the variance in `y`, we actually have a negative adjusted R-Squared.\n",
        "\n",
        "None of the coefficients are statistically significant at an alpha of 0.05\n",
        "    \n",
        "</details>"
      ]
    },
    {
      "cell_type": "markdown",
      "metadata": {
        "id": "ALbf_afzOQmJ"
      },
      "source": [
        "## Build and Evaluate a 4th Degree Polynomial Model\n",
        "\n",
        "In other words, the model should include $x^0$ (intercept), $x^1$, $x^2$, $x^3$, and $x^4$ terms.\n",
        "\n",
        "At this point we recommend importing and using `PolynomialFeatures` if you haven't already!"
      ]
    },
    {
      "cell_type": "code",
      "execution_count": null,
      "metadata": {
        "id": "bRZ56qLAOQmJ"
      },
      "outputs": [],
      "source": [
        "# Your code here - prepare 4th degree polynomial data and fit a model\n"
      ]
    },
    {
      "cell_type": "code",
      "execution_count": null,
      "metadata": {
        "id": "-jqygWGjOQmJ"
      },
      "outputs": [],
      "source": [
        "# Your code here - evaluate (adjusted) R-Squared and coefficient p-values\n"
      ]
    },
    {
      "cell_type": "code",
      "execution_count": null,
      "metadata": {
        "id": "7go6a8SUOQmJ"
      },
      "outputs": [],
      "source": [
        "# Your written answer here - summarize findings\n"
      ]
    },
    {
      "cell_type": "markdown",
      "metadata": {
        "id": "uDgyzwBzOQmK"
      },
      "source": [
        "<details>\n",
        "    <summary style=\"cursor: pointer\"><b>Answer (click to reveal)</b></summary>\n",
        "    \n",
        "This is much better. We are explaining 57-58% of the variance in the target and all of our coefficients are statistically significant at an alpha of 0.05.\n",
        "    \n",
        "</details>"
      ]
    },
    {
      "cell_type": "markdown",
      "metadata": {
        "id": "p12BxmFxOQmK"
      },
      "source": [
        "## Build and Evaluate an 8th Degree Polynomial Model\n",
        "\n",
        "This model should include $x^0$ through $x^8$."
      ]
    },
    {
      "cell_type": "code",
      "execution_count": null,
      "metadata": {
        "id": "00Y97D-mOQmK"
      },
      "outputs": [],
      "source": [
        "# Your code here - prepare 8th degree polynomial data and fit a model\n"
      ]
    },
    {
      "cell_type": "code",
      "execution_count": null,
      "metadata": {
        "id": "8cE2dIm2OQmK"
      },
      "outputs": [],
      "source": [
        "# Your code here - evaluate (adjusted) R-Squared and coefficient p-values\n"
      ]
    },
    {
      "cell_type": "code",
      "execution_count": null,
      "metadata": {
        "id": "74k7-UEfOQmK"
      },
      "outputs": [],
      "source": [
        "# Your written answer here - summarize findings\n"
      ]
    },
    {
      "cell_type": "markdown",
      "metadata": {
        "id": "37MNK-tIOQmK"
      },
      "source": [
        "<details>\n",
        "    <summary style=\"cursor: pointer\"><b>Answer (click to reveal)</b></summary>\n",
        "    \n",
        "Our R-Squared is higher, but none of the coefficients are statistically significant at an alpha of 0.05 any more. If what we care about is an inferential understanding of the data, this is too high a degree of the polynomial.\n",
        "    \n",
        "</details>"
      ]
    },
    {
      "cell_type": "markdown",
      "metadata": {
        "id": "sgH-zSMFOQmK"
      },
      "source": [
        "## Plot All Models\n",
        "\n",
        "Build a single plot that shows the raw data as a scatter plot, as well as all of the models you have developed as line graphs. Make sure that everything is labeled so you can tell the different models apart!"
      ]
    },
    {
      "cell_type": "code",
      "execution_count": null,
      "metadata": {
        "id": "h1BMv5NqOQmK"
      },
      "outputs": [],
      "source": [
        "# Your code here\n"
      ]
    },
    {
      "cell_type": "markdown",
      "metadata": {
        "id": "L1gRI7_qOQmK"
      },
      "source": [
        "### Interpret Findings\n",
        "\n",
        "Based on the metrics as well as the graphs, which model do you think is the best? Why?"
      ]
    },
    {
      "cell_type": "code",
      "execution_count": null,
      "metadata": {
        "id": "mdR4O4cAOQmK"
      },
      "outputs": [],
      "source": [
        "# Your written answer here\n"
      ]
    },
    {
      "cell_type": "markdown",
      "metadata": {
        "id": "EYxg1uBaOQmK"
      },
      "source": [
        "<details>\n",
        "    <summary style=\"cursor: pointer\"><b>Answer (click to reveal)</b></summary>\n",
        "    \n",
        "The quadratic model (polynomial degree 2) is definitely not the best based on all of the evidence we have. It has the worst R-Squared, the coefficient p-values are not significant, and you can see from the graph that there is a lot of variance in the data that it is not picking up on.\n",
        "\n",
        "Our visual inspection aligns with the worse R-Squared for the 4th degree polynomial compared to the 8th degree polynomial. The 4th degree polynomial is flatter and doesn't seem to capture the extremes of the data as well.\n",
        "    \n",
        "However if we wanted to interpret the coefficients, then only the 4th degree polynomial has statistically significant results. The interpretation would be challenging because of the number of terms, but we could apply some calculus techniques to describe inflection points.\n",
        "\n",
        "Overall it appears that this dataset is not particularly well suited to an inferential linear regression approach, even with polynomial transformations. So the \"best\" model could be either the 4th or 8th degree polynomial depending on which aspect of the model is more important to you, but either way it will be challenging to translate it into insights for stakeholders.\n",
        "    \n",
        "</details>"
      ]
    },
    {
      "cell_type": "markdown",
      "metadata": {
        "id": "EaYjd9D_OQmK"
      },
      "source": [
        "## Summary"
      ]
    },
    {
      "cell_type": "markdown",
      "metadata": {
        "id": "j60utK_OOQmL"
      },
      "source": [
        "Great job! You now know how to include polynomials in your linear models as well as the limitations of applying polynomial regression. "
      ]
    }
  ],
  "metadata": {
    "kernelspec": {
      "display_name": "Python (learn-env)",
      "language": "python",
      "name": "learn-env"
    },
    "language_info": {
      "codemirror_mode": {
        "name": "ipython",
        "version": 3
      },
      "file_extension": ".py",
      "mimetype": "text/x-python",
      "name": "python",
      "nbconvert_exporter": "python",
      "pygments_lexer": "ipython3",
      "version": "3.8.5"
    },
    "colab": {
      "provenance": []
    }
  },
  "nbformat": 4,
  "nbformat_minor": 0
}