{
  "cells": [
    {
      "cell_type": "markdown",
      "metadata": {
        "id": "3s-pm_J4OQmG"
      },
      "source": [
        "# Polynomial Regression - Lab"
      ]
    },
    {
      "cell_type": "markdown",
      "metadata": {
        "id": "H-MtIk3SOQmH"
      },
      "source": [
        "## Introduction"
      ]
    },
    {
      "cell_type": "markdown",
      "metadata": {
        "id": "lY-TmXb6OQmH"
      },
      "source": [
        "In this lab, you'll practice your knowledge on adding polynomial terms to your regression model! "
      ]
    },
    {
      "cell_type": "markdown",
      "metadata": {
        "id": "7F83HOjPOQmH"
      },
      "source": [
        "## Objectives"
      ]
    },
    {
      "cell_type": "markdown",
      "metadata": {
        "id": "Vif7mAE_OQmH"
      },
      "source": [
        "You will be able to:\n",
        "\n",
        "* Determine if polynomial regression would be useful for a specific model or set of data\n",
        "* Create polynomial terms out of independent variables in linear regression"
      ]
    },
    {
      "cell_type": "markdown",
      "metadata": {
        "id": "j9drqhlJOQmH"
      },
      "source": [
        "## Dataset"
      ]
    },
    {
      "cell_type": "markdown",
      "metadata": {
        "id": "0s2m1FzMOQmI"
      },
      "source": [
        "For this lab you'll be using some generated data:"
      ]
    },
    {
      "cell_type": "code",
      "execution_count": 56,
      "metadata": {
        "colab": {
          "base_uri": "https://localhost:8080/",
          "height": 206
        },
        "id": "UWwwucewOQmI",
        "outputId": "86a54823-ac48-4d6d-cea6-52a9191008f8"
      },
      "outputs": [
        {
          "output_type": "execute_result",
          "data": {
            "text/plain": [
              "          x         y\n",
              "0  0.000000  0.942870\n",
              "1  0.121212 -2.261629\n",
              "2  0.242424  3.100749\n",
              "3  0.363636 -0.285446\n",
              "4  0.484848 -1.012210"
            ],
            "text/html": [
              "\n",
              "  <div id=\"df-b190d855-fd8c-4010-923c-da593812cd45\">\n",
              "    <div class=\"colab-df-container\">\n",
              "      <div>\n",
              "<style scoped>\n",
              "    .dataframe tbody tr th:only-of-type {\n",
              "        vertical-align: middle;\n",
              "    }\n",
              "\n",
              "    .dataframe tbody tr th {\n",
              "        vertical-align: top;\n",
              "    }\n",
              "\n",
              "    .dataframe thead th {\n",
              "        text-align: right;\n",
              "    }\n",
              "</style>\n",
              "<table border=\"1\" class=\"dataframe\">\n",
              "  <thead>\n",
              "    <tr style=\"text-align: right;\">\n",
              "      <th></th>\n",
              "      <th>x</th>\n",
              "      <th>y</th>\n",
              "    </tr>\n",
              "  </thead>\n",
              "  <tbody>\n",
              "    <tr>\n",
              "      <th>0</th>\n",
              "      <td>0.000000</td>\n",
              "      <td>0.942870</td>\n",
              "    </tr>\n",
              "    <tr>\n",
              "      <th>1</th>\n",
              "      <td>0.121212</td>\n",
              "      <td>-2.261629</td>\n",
              "    </tr>\n",
              "    <tr>\n",
              "      <th>2</th>\n",
              "      <td>0.242424</td>\n",
              "      <td>3.100749</td>\n",
              "    </tr>\n",
              "    <tr>\n",
              "      <th>3</th>\n",
              "      <td>0.363636</td>\n",
              "      <td>-0.285446</td>\n",
              "    </tr>\n",
              "    <tr>\n",
              "      <th>4</th>\n",
              "      <td>0.484848</td>\n",
              "      <td>-1.012210</td>\n",
              "    </tr>\n",
              "  </tbody>\n",
              "</table>\n",
              "</div>\n",
              "      <button class=\"colab-df-convert\" onclick=\"convertToInteractive('df-b190d855-fd8c-4010-923c-da593812cd45')\"\n",
              "              title=\"Convert this dataframe to an interactive table.\"\n",
              "              style=\"display:none;\">\n",
              "        \n",
              "  <svg xmlns=\"http://www.w3.org/2000/svg\" height=\"24px\"viewBox=\"0 0 24 24\"\n",
              "       width=\"24px\">\n",
              "    <path d=\"M0 0h24v24H0V0z\" fill=\"none\"/>\n",
              "    <path d=\"M18.56 5.44l.94 2.06.94-2.06 2.06-.94-2.06-.94-.94-2.06-.94 2.06-2.06.94zm-11 1L8.5 8.5l.94-2.06 2.06-.94-2.06-.94L8.5 2.5l-.94 2.06-2.06.94zm10 10l.94 2.06.94-2.06 2.06-.94-2.06-.94-.94-2.06-.94 2.06-2.06.94z\"/><path d=\"M17.41 7.96l-1.37-1.37c-.4-.4-.92-.59-1.43-.59-.52 0-1.04.2-1.43.59L10.3 9.45l-7.72 7.72c-.78.78-.78 2.05 0 2.83L4 21.41c.39.39.9.59 1.41.59.51 0 1.02-.2 1.41-.59l7.78-7.78 2.81-2.81c.8-.78.8-2.07 0-2.86zM5.41 20L4 18.59l7.72-7.72 1.47 1.35L5.41 20z\"/>\n",
              "  </svg>\n",
              "      </button>\n",
              "      \n",
              "  <style>\n",
              "    .colab-df-container {\n",
              "      display:flex;\n",
              "      flex-wrap:wrap;\n",
              "      gap: 12px;\n",
              "    }\n",
              "\n",
              "    .colab-df-convert {\n",
              "      background-color: #E8F0FE;\n",
              "      border: none;\n",
              "      border-radius: 50%;\n",
              "      cursor: pointer;\n",
              "      display: none;\n",
              "      fill: #1967D2;\n",
              "      height: 32px;\n",
              "      padding: 0 0 0 0;\n",
              "      width: 32px;\n",
              "    }\n",
              "\n",
              "    .colab-df-convert:hover {\n",
              "      background-color: #E2EBFA;\n",
              "      box-shadow: 0px 1px 2px rgba(60, 64, 67, 0.3), 0px 1px 3px 1px rgba(60, 64, 67, 0.15);\n",
              "      fill: #174EA6;\n",
              "    }\n",
              "\n",
              "    [theme=dark] .colab-df-convert {\n",
              "      background-color: #3B4455;\n",
              "      fill: #D2E3FC;\n",
              "    }\n",
              "\n",
              "    [theme=dark] .colab-df-convert:hover {\n",
              "      background-color: #434B5C;\n",
              "      box-shadow: 0px 1px 3px 1px rgba(0, 0, 0, 0.15);\n",
              "      filter: drop-shadow(0px 1px 2px rgba(0, 0, 0, 0.3));\n",
              "      fill: #FFFFFF;\n",
              "    }\n",
              "  </style>\n",
              "\n",
              "      <script>\n",
              "        const buttonEl =\n",
              "          document.querySelector('#df-b190d855-fd8c-4010-923c-da593812cd45 button.colab-df-convert');\n",
              "        buttonEl.style.display =\n",
              "          google.colab.kernel.accessAllowed ? 'block' : 'none';\n",
              "\n",
              "        async function convertToInteractive(key) {\n",
              "          const element = document.querySelector('#df-b190d855-fd8c-4010-923c-da593812cd45');\n",
              "          const dataTable =\n",
              "            await google.colab.kernel.invokeFunction('convertToInteractive',\n",
              "                                                     [key], {});\n",
              "          if (!dataTable) return;\n",
              "\n",
              "          const docLinkHtml = 'Like what you see? Visit the ' +\n",
              "            '<a target=\"_blank\" href=https://colab.research.google.com/notebooks/data_table.ipynb>data table notebook</a>'\n",
              "            + ' to learn more about interactive tables.';\n",
              "          element.innerHTML = '';\n",
              "          dataTable['output_type'] = 'display_data';\n",
              "          await google.colab.output.renderOutput(dataTable, element);\n",
              "          const docLink = document.createElement('div');\n",
              "          docLink.innerHTML = docLinkHtml;\n",
              "          element.appendChild(docLink);\n",
              "        }\n",
              "      </script>\n",
              "    </div>\n",
              "  </div>\n",
              "  "
            ]
          },
          "metadata": {},
          "execution_count": 56
        }
      ],
      "source": [
        "# Run this cell without changes\n",
        "import numpy as np\n",
        "import pandas as pd\n",
        "import matplotlib.pyplot as plt\n",
        "%matplotlib inline\n",
        "\n",
        "df = pd.read_csv('https://raw.githubusercontent.com/bmjaron/dsc-polynomial-regression-lab-v2-5/master/sample_data.csv')\n",
        "df.head()"
      ]
    },
    {
      "cell_type": "markdown",
      "metadata": {
        "id": "Gd7hI7oROQmI"
      },
      "source": [
        "Let's check out a scatter plot of `x` vs. `y`: "
      ]
    },
    {
      "cell_type": "code",
      "execution_count": 57,
      "metadata": {
        "colab": {
          "base_uri": "https://localhost:8080/",
          "height": 449
        },
        "id": "qg15mFqhOQmI",
        "outputId": "f4f7a6b9-fd32-4d30-f881-ff507daa4713"
      },
      "outputs": [
        {
          "output_type": "display_data",
          "data": {
            "text/plain": [
              "<Figure size 640x480 with 1 Axes>"
            ],
            "image/png": "[encoded data removed]"
          },
          "metadata": {}
        }
      ],
      "source": [
        "# Run this cell without changes\n",
        "df.plot.scatter(x=\"x\", y=\"y\");"
      ]
    },
    {
      "cell_type": "markdown",
      "metadata": {
        "id": "qONTogn8OQmI"
      },
      "source": [
        "You will notice that the data is clearly of non-linear shape. Begin to think about what degree polynomial you believe will fit it best.\n",
        "\n",
        "You will fit several different models with different polynomial degrees, then plot them in the same plot at the end."
      ]
    },
    {
      "cell_type": "code",
      "execution_count": 58,
      "metadata": {
        "id": "GFBPNGQ_OQmJ"
      },
      "outputs": [],
      "source": [
        "# Your code here - import StatsModels and separate the data into X and y\n",
        "import statsmodels.api as sm\n",
        "\n",
        "x = df[[\"x\"]]\n",
        "y = df[\"y\"]\n"
      ]
    },
    {
      "cell_type": "markdown",
      "metadata": {
        "id": "sHYzltJdOQmJ"
      },
      "source": [
        "## Build and Evaluate a Quadratic Model\n",
        "\n",
        "This model should include a constant, `x`, and `x` squared. You can use `pandas` or `PolynomialFeatures` to create the squared term."
      ]
    },
    {
      "cell_type": "code",
      "execution_count": 63,
      "metadata": {
        "id": "Q1jFxwj3OQmJ"
      },
      "outputs": [],
      "source": [
        "# Your code here - prepare quadratic data and fit a model\n",
        "\n",
        "x_2 = x.copy()\n",
        "x_2['x^2'] = x_2['x']**2\n",
        "\n",
        "results_2 = sm.OLS(y, sm.add_constant(x_2)).fit()\n"
      ]
    },
    {
      "cell_type": "code",
      "execution_count": 64,
      "metadata": {
        "colab": {
          "base_uri": "https://localhost:8080/",
          "height": 465
        },
        "id": "S6GcVtWoOQmJ",
        "outputId": "85fee12f-5d9a-41c5-d115-04697e2deaaf"
      },
      "outputs": [
        {
          "output_type": "execute_result",
          "data": {
            "text/plain": [
              "<class 'statsmodels.iolib.summary.Summary'>\n",
              "\"\"\"\n",
              "                            OLS Regression Results                            \n",
              "==============================================================================\n",
              "Dep. Variable:                      y   R-squared:                       0.005\n",
              "Model:                            OLS   Adj. R-squared:                 -0.016\n",
              "Method:                 Least Squares   F-statistic:                    0.2366\n",
              "Date:                Sun, 30 Apr 2023   Prob (F-statistic):              0.790\n",
              "Time:                        18:30:18   Log-Likelihood:                -299.64\n",
              "No. Observations:                 100   AIC:                             605.3\n",
              "Df Residuals:                      97   BIC:                             613.1\n",
              "Df Model:                           2                                         \n",
              "Covariance Type:            nonrobust                                         \n",
              "==============================================================================\n",
              "                 coef    std err          t      P>|t|      [0.025      0.975]\n",
              "------------------------------------------------------------------------------\n",
              "const          0.1127      1.446      0.078      0.938      -2.757       2.983\n",
              "x             -0.0744      0.557     -0.134      0.894      -1.180       1.031\n",
              "x^2           -0.0018      0.045     -0.041      0.967      -0.091       0.087\n",
              "==============================================================================\n",
              "Omnibus:                        1.048   Durbin-Watson:                   0.426\n",
              "Prob(Omnibus):                  0.592   Jarque-Bera (JB):                0.803\n",
              "Skew:                          -0.219   Prob(JB):                        0.669\n",
              "Kurtosis:                       3.037   Cond. No.                         203.\n",
              "==============================================================================\n",
              "\n",
              "Notes:\n",
              "[1] Standard Errors assume that the covariance matrix of the errors is correctly specified.\n",
              "\"\"\""
            ],
            "text/html": [
              "<table class=\"simpletable\">\n",
              "<caption>OLS Regression Results</caption>\n",
              "<tr>\n",
              "  <th>Dep. Variable:</th>            <td>y</td>        <th>  R-squared:         </th> <td>   0.005</td>\n",
              "</tr>\n",
              "<tr>\n",
              "  <th>Model:</th>                   <td>OLS</td>       <th>  Adj. R-squared:    </th> <td>  -0.016</td>\n",
              "</tr>\n",
              "<tr>\n",
              "  <th>Method:</th>             <td>Least Squares</td>  <th>  F-statistic:       </th> <td>  0.2366</td>\n",
              "</tr>\n",
              "<tr>\n",
              "  <th>Date:</th>             <td>Sun, 30 Apr 2023</td> <th>  Prob (F-statistic):</th>  <td> 0.790</td> \n",
              "</tr>\n",
              "<tr>\n",
              "  <th>Time:</th>                 <td>18:30:18</td>     <th>  Log-Likelihood:    </th> <td> -299.64</td>\n",
              "</tr>\n",
              "<tr>\n",
              "  <th>No. Observations:</th>      <td>   100</td>      <th>  AIC:               </th> <td>   605.3</td>\n",
              "</tr>\n",
              "<tr>\n",
              "  <th>Df Residuals:</th>          <td>    97</td>      <th>  BIC:               </th> <td>   613.1</td>\n",
              "</tr>\n",
              "<tr>\n",
              "  <th>Df Model:</th>              <td>     2</td>      <th>                     </th>     <td> </td>   \n",
              "</tr>\n",
              "<tr>\n",
              "  <th>Covariance Type:</th>      <td>nonrobust</td>    <th>                     </th>     <td> </td>   \n",
              "</tr>\n",
              "</table>\n",
              "<table class=\"simpletable\">\n",
              "<tr>\n",
              "    <td></td>       <th>coef</th>     <th>std err</th>      <th>t</th>      <th>P>|t|</th>  <th>[0.025</th>    <th>0.975]</th>  \n",
              "</tr>\n",
              "<tr>\n",
              "  <th>const</th> <td>    0.1127</td> <td>    1.446</td> <td>    0.078</td> <td> 0.938</td> <td>   -2.757</td> <td>    2.983</td>\n",
              "</tr>\n",
              "<tr>\n",
              "  <th>x</th>     <td>   -0.0744</td> <td>    0.557</td> <td>   -0.134</td> <td> 0.894</td> <td>   -1.180</td> <td>    1.031</td>\n",
              "</tr>\n",
              "<tr>\n",
              "  <th>x^2</th>   <td>   -0.0018</td> <td>    0.045</td> <td>   -0.041</td> <td> 0.967</td> <td>   -0.091</td> <td>    0.087</td>\n",
              "</tr>\n",
              "</table>\n",
              "<table class=\"simpletable\">\n",
              "<tr>\n",
              "  <th>Omnibus:</th>       <td> 1.048</td> <th>  Durbin-Watson:     </th> <td>   0.426</td>\n",
              "</tr>\n",
              "<tr>\n",
              "  <th>Prob(Omnibus):</th> <td> 0.592</td> <th>  Jarque-Bera (JB):  </th> <td>   0.803</td>\n",
              "</tr>\n",
              "<tr>\n",
              "  <th>Skew:</th>          <td>-0.219</td> <th>  Prob(JB):          </th> <td>   0.669</td>\n",
              "</tr>\n",
              "<tr>\n",
              "  <th>Kurtosis:</th>      <td> 3.037</td> <th>  Cond. No.          </th> <td>    203.</td>\n",
              "</tr>\n",
              "</table><br/><br/>Notes:<br/>[1] Standard Errors assume that the covariance matrix of the errors is correctly specified."
            ]
          },
          "metadata": {},
          "execution_count": 64
        }
      ],
      "source": [
        "# Your code here - evaluate (adjusted) R-Squared and coefficient p-values\n",
        "\n",
        "results_2.summary()"
      ]
    },
    {
      "cell_type": "code",
      "execution_count": 36,
      "metadata": {
        "colab": {
          "base_uri": "https://localhost:8080/",
          "height": 53
        },
        "id": "Pq4qj5hbOQmJ",
        "outputId": "b7b7cb9e-bb32-40c0-b664-b3ab36ea9a47"
      },
      "outputs": [
        {
          "output_type": "execute_result",
          "data": {
            "text/plain": [
              "\"\\nIn short, our model is underwhelming. The model is not statistically significant with a p-value of 0.79. \\n\\nThe R-squared shows we're barely capturing any of the variance of the model. \\n\\nAdditionally, all of the predictors have p-values much above 0.05. \\n\""
            ],
            "application/vnd.google.colaboratory.intrinsic+json": {
              "type": "string"
            }
          },
          "metadata": {},
          "execution_count": 36
        }
      ],
      "source": [
        "# Your written answer here - summarize findings\n",
        "\"\"\"\n",
        "In short, our model is underwhelming. The model is not statistically significant with a p-value of 0.79. \n",
        "\n",
        "The R-squared shows we're barely capturing any of the variance of the model. \n",
        "\n",
        "Additionally, all of the predictors have p-values much above 0.05. \n",
        "\"\"\""
      ]
    },
    {
      "cell_type": "markdown",
      "metadata": {
        "id": "31uWYvelOQmJ"
      },
      "source": [
        "<details>\n",
        "    <summary style=\"cursor: pointer\"><b>Answer (click to reveal)</b></summary>\n",
        "    \n",
        "This is not a good model. Because we have multiple terms and are explaining so little of the variance in `y`, we actually have a negative adjusted R-Squared.\n",
        "\n",
        "None of the coefficients are statistically significant at an alpha of 0.05\n",
        "    \n",
        "</details>"
      ]
    },
    {
      "cell_type": "markdown",
      "metadata": {
        "id": "ALbf_afzOQmJ"
      },
      "source": [
        "## Build and Evaluate a 4th Degree Polynomial Model\n",
        "\n",
        "In other words, the model should include $x^0$ (intercept), $x^1$, $x^2$, $x^3$, and $x^4$ terms.\n",
        "\n",
        "At this point we recommend importing and using `PolynomialFeatures` if you haven't already!"
      ]
    },
    {
      "cell_type": "code",
      "execution_count": 65,
      "metadata": {
        "id": "bRZ56qLAOQmJ"
      },
      "outputs": [],
      "source": [
        "# Your code here - prepare 4th degree polynomial data and fit a model\n",
        "from sklearn.preprocessing import PolynomialFeatures\n",
        "\n",
        "poly = PolynomialFeatures(4)\n",
        "x_4 = poly.fit_transform(x)"
      ]
    },
    {
      "cell_type": "code",
      "execution_count": 66,
      "metadata": {
        "colab": {
          "base_uri": "https://localhost:8080/",
          "height": 541
        },
        "id": "-jqygWGjOQmJ",
        "outputId": "5b875d06-3b16-44e3-9e95-1330fd684c7f"
      },
      "outputs": [
        {
          "output_type": "execute_result",
          "data": {
            "text/plain": [
              "<class 'statsmodels.iolib.summary.Summary'>\n",
              "\"\"\"\n",
              "                            OLS Regression Results                            \n",
              "==============================================================================\n",
              "Dep. Variable:                      y   R-squared:                       0.584\n",
              "Model:                            OLS   Adj. R-squared:                  0.567\n",
              "Method:                 Least Squares   F-statistic:                     33.38\n",
              "Date:                Sun, 30 Apr 2023   Prob (F-statistic):           2.24e-17\n",
              "Time:                        18:30:30   Log-Likelihood:                -255.99\n",
              "No. Observations:                 100   AIC:                             522.0\n",
              "Df Residuals:                      95   BIC:                             535.0\n",
              "Df Model:                           4                                         \n",
              "Covariance Type:            nonrobust                                         \n",
              "==============================================================================\n",
              "                 coef    std err          t      P>|t|      [0.025      0.975]\n",
              "------------------------------------------------------------------------------\n",
              "const          5.8590      1.514      3.870      0.000       2.853       8.864\n",
              "x1           -12.6406      1.767     -7.155      0.000     -16.148      -9.133\n",
              "x2             5.3802      0.603      8.921      0.000       4.183       6.577\n",
              "x3            -0.7563      0.076     -9.992      0.000      -0.907      -0.606\n",
              "x4             0.0333      0.003     10.632      0.000       0.027       0.039\n",
              "==============================================================================\n",
              "Omnibus:                        1.211   Durbin-Watson:                   1.007\n",
              "Prob(Omnibus):                  0.546   Jarque-Bera (JB):                1.177\n",
              "Skew:                          -0.257   Prob(JB):                        0.555\n",
              "Kurtosis:                       2.861   Cond. No.                     5.08e+04\n",
              "==============================================================================\n",
              "\n",
              "Notes:\n",
              "[1] Standard Errors assume that the covariance matrix of the errors is correctly specified.\n",
              "[2] The condition number is large, 5.08e+04. This might indicate that there are\n",
              "strong multicollinearity or other numerical problems.\n",
              "\"\"\""
            ],
            "text/html": [
              "<table class=\"simpletable\">\n",
              "<caption>OLS Regression Results</caption>\n",
              "<tr>\n",
              "  <th>Dep. Variable:</th>            <td>y</td>        <th>  R-squared:         </th> <td>   0.584</td>\n",
              "</tr>\n",
              "<tr>\n",
              "  <th>Model:</th>                   <td>OLS</td>       <th>  Adj. R-squared:    </th> <td>   0.567</td>\n",
              "</tr>\n",
              "<tr>\n",
              "  <th>Method:</th>             <td>Least Squares</td>  <th>  F-statistic:       </th> <td>   33.38</td>\n",
              "</tr>\n",
              "<tr>\n",
              "  <th>Date:</th>             <td>Sun, 30 Apr 2023</td> <th>  Prob (F-statistic):</th> <td>2.24e-17</td>\n",
              "</tr>\n",
              "<tr>\n",
              "  <th>Time:</th>                 <td>18:30:30</td>     <th>  Log-Likelihood:    </th> <td> -255.99</td>\n",
              "</tr>\n",
              "<tr>\n",
              "  <th>No. Observations:</th>      <td>   100</td>      <th>  AIC:               </th> <td>   522.0</td>\n",
              "</tr>\n",
              "<tr>\n",
              "  <th>Df Residuals:</th>          <td>    95</td>      <th>  BIC:               </th> <td>   535.0</td>\n",
              "</tr>\n",
              "<tr>\n",
              "  <th>Df Model:</th>              <td>     4</td>      <th>                     </th>     <td> </td>   \n",
              "</tr>\n",
              "<tr>\n",
              "  <th>Covariance Type:</th>      <td>nonrobust</td>    <th>                     </th>     <td> </td>   \n",
              "</tr>\n",
              "</table>\n",
              "<table class=\"simpletable\">\n",
              "<tr>\n",
              "    <td></td>       <th>coef</th>     <th>std err</th>      <th>t</th>      <th>P>|t|</th>  <th>[0.025</th>    <th>0.975]</th>  \n",
              "</tr>\n",
              "<tr>\n",
              "  <th>const</th> <td>    5.8590</td> <td>    1.514</td> <td>    3.870</td> <td> 0.000</td> <td>    2.853</td> <td>    8.864</td>\n",
              "</tr>\n",
              "<tr>\n",
              "  <th>x1</th>    <td>  -12.6406</td> <td>    1.767</td> <td>   -7.155</td> <td> 0.000</td> <td>  -16.148</td> <td>   -9.133</td>\n",
              "</tr>\n",
              "<tr>\n",
              "  <th>x2</th>    <td>    5.3802</td> <td>    0.603</td> <td>    8.921</td> <td> 0.000</td> <td>    4.183</td> <td>    6.577</td>\n",
              "</tr>\n",
              "<tr>\n",
              "  <th>x3</th>    <td>   -0.7563</td> <td>    0.076</td> <td>   -9.992</td> <td> 0.000</td> <td>   -0.907</td> <td>   -0.606</td>\n",
              "</tr>\n",
              "<tr>\n",
              "  <th>x4</th>    <td>    0.0333</td> <td>    0.003</td> <td>   10.632</td> <td> 0.000</td> <td>    0.027</td> <td>    0.039</td>\n",
              "</tr>\n",
              "</table>\n",
              "<table class=\"simpletable\">\n",
              "<tr>\n",
              "  <th>Omnibus:</th>       <td> 1.211</td> <th>  Durbin-Watson:     </th> <td>   1.007</td>\n",
              "</tr>\n",
              "<tr>\n",
              "  <th>Prob(Omnibus):</th> <td> 0.546</td> <th>  Jarque-Bera (JB):  </th> <td>   1.177</td>\n",
              "</tr>\n",
              "<tr>\n",
              "  <th>Skew:</th>          <td>-0.257</td> <th>  Prob(JB):          </th> <td>   0.555</td>\n",
              "</tr>\n",
              "<tr>\n",
              "  <th>Kurtosis:</th>      <td> 2.861</td> <th>  Cond. No.          </th> <td>5.08e+04</td>\n",
              "</tr>\n",
              "</table><br/><br/>Notes:<br/>[1] Standard Errors assume that the covariance matrix of the errors is correctly specified.<br/>[2] The condition number is large, 5.08e+04. This might indicate that there are<br/>strong multicollinearity or other numerical problems."
            ]
          },
          "metadata": {},
          "execution_count": 66
        }
      ],
      "source": [
        "# Your code here - evaluate (adjusted) R-Squared and coefficient p-values\n",
        "model_4 = sm.OLS(endog=y, exog=sm.add_constant(x_4))\n",
        "results_4 = model_4.fit()\n",
        "results_4.summary()\n"
      ]
    },
    {
      "cell_type": "code",
      "execution_count": 67,
      "metadata": {
        "colab": {
          "base_uri": "https://localhost:8080/",
          "height": 70
        },
        "id": "7go6a8SUOQmJ",
        "outputId": "323c3d46-470f-43b1-d415-3bce8443d4ac"
      },
      "outputs": [
        {
          "output_type": "execute_result",
          "data": {
            "text/plain": [
              "\"\\nOur model is statistically significant with an incredibly low p-value. \\n\\nAdditionally, the adjusted R-squared shows that our model captures about 57% of the total variance of the data. \\n\\nAll of the predictors are statistically significant. \\n\\nAn interpretation of our predictors can lead us to say: that if all variables are set to 0 than we'd expect a y-value of 5.86. \\n\\nAs we increase x by 1, y will decrease by about 7. \\n\""
            ],
            "application/vnd.google.colaboratory.intrinsic+json": {
              "type": "string"
            }
          },
          "metadata": {},
          "execution_count": 67
        }
      ],
      "source": [
        "# Your written answer here - summarize findings\n",
        "\"\"\"\n",
        "Our model is statistically significant with an incredibly low p-value. \n",
        "\n",
        "Additionally, the adjusted R-squared shows that our model captures about 57% of the total variance of the data. \n",
        "\n",
        "All of the predictors are statistically significant. \n",
        "\n",
        "An interpretation of our predictors can lead us to say: that if all variables are set to 0 than we'd expect a y-value of 5.86. \n",
        "\n",
        "As we increase x by 1, y will decrease by about 7. \n",
        "\"\"\""
      ]
    },
    {
      "cell_type": "markdown",
      "metadata": {
        "id": "uDgyzwBzOQmK"
      },
      "source": [
        "<details>\n",
        "    <summary style=\"cursor: pointer\"><b>Answer (click to reveal)</b></summary>\n",
        "    \n",
        "This is much better. We are explaining 57-58% of the variance in the target and all of our coefficients are statistically significant at an alpha of 0.05.\n",
        "    \n",
        "</details>"
      ]
    },
    {
      "cell_type": "markdown",
      "metadata": {
        "id": "p12BxmFxOQmK"
      },
      "source": [
        "## Build and Evaluate an 8th Degree Polynomial Model\n",
        "\n",
        "This model should include $x^0$ through $x^8$."
      ]
    },
    {
      "cell_type": "code",
      "execution_count": 68,
      "metadata": {
        "colab": {
          "base_uri": "https://localhost:8080/",
          "height": 625
        },
        "id": "00Y97D-mOQmK",
        "outputId": "222c03c3-e897-4aa2-ca19-5e49dc1b5e0d"
      },
      "outputs": [
        {
          "output_type": "execute_result",
          "data": {
            "text/plain": [
              "<class 'statsmodels.iolib.summary.Summary'>\n",
              "\"\"\"\n",
              "                            OLS Regression Results                            \n",
              "==============================================================================\n",
              "Dep. Variable:                      y   R-squared:                       0.834\n",
              "Model:                            OLS   Adj. R-squared:                  0.819\n",
              "Method:                 Least Squares   F-statistic:                     56.95\n",
              "Date:                Sun, 30 Apr 2023   Prob (F-statistic):           3.93e-32\n",
              "Time:                        18:30:33   Log-Likelihood:                -210.25\n",
              "No. Observations:                 100   AIC:                             438.5\n",
              "Df Residuals:                      91   BIC:                             461.9\n",
              "Df Model:                           8                                         \n",
              "Covariance Type:            nonrobust                                         \n",
              "==============================================================================\n",
              "                 coef    std err          t      P>|t|      [0.025      0.975]\n",
              "------------------------------------------------------------------------------\n",
              "const          0.6335      1.550      0.409      0.684      -2.446       3.713\n",
              "x1            -3.1197      6.237     -0.500      0.618     -15.508       9.269\n",
              "x2             7.2069      8.019      0.899      0.371      -8.722      23.135\n",
              "x3            -5.9515      4.602     -1.293      0.199     -15.092       3.189\n",
              "x4             2.0415      1.388      1.471      0.145      -0.716       4.799\n",
              "x5            -0.3359      0.236     -1.425      0.158      -0.804       0.132\n",
              "x6             0.0276      0.023      1.220      0.226      -0.017       0.073\n",
              "x7            -0.0011      0.001     -0.925      0.357      -0.003       0.001\n",
              "x8          1.418e-05   2.39e-05      0.594      0.554   -3.33e-05    6.16e-05\n",
              "==============================================================================\n",
              "Omnibus:                       11.607   Durbin-Watson:                   2.456\n",
              "Prob(Omnibus):                  0.003   Jarque-Bera (JB):               12.576\n",
              "Skew:                          -0.700   Prob(JB):                      0.00186\n",
              "Kurtosis:                       4.030   Cond. No.                     5.83e+09\n",
              "==============================================================================\n",
              "\n",
              "Notes:\n",
              "[1] Standard Errors assume that the covariance matrix of the errors is correctly specified.\n",
              "[2] The condition number is large, 5.83e+09. This might indicate that there are\n",
              "strong multicollinearity or other numerical problems.\n",
              "\"\"\""
            ],
            "text/html": [
              "<table class=\"simpletable\">\n",
              "<caption>OLS Regression Results</caption>\n",
              "<tr>\n",
              "  <th>Dep. Variable:</th>            <td>y</td>        <th>  R-squared:         </th> <td>   0.834</td>\n",
              "</tr>\n",
              "<tr>\n",
              "  <th>Model:</th>                   <td>OLS</td>       <th>  Adj. R-squared:    </th> <td>   0.819</td>\n",
              "</tr>\n",
              "<tr>\n",
              "  <th>Method:</th>             <td>Least Squares</td>  <th>  F-statistic:       </th> <td>   56.95</td>\n",
              "</tr>\n",
              "<tr>\n",
              "  <th>Date:</th>             <td>Sun, 30 Apr 2023</td> <th>  Prob (F-statistic):</th> <td>3.93e-32</td>\n",
              "</tr>\n",
              "<tr>\n",
              "  <th>Time:</th>                 <td>18:30:33</td>     <th>  Log-Likelihood:    </th> <td> -210.25</td>\n",
              "</tr>\n",
              "<tr>\n",
              "  <th>No. Observations:</th>      <td>   100</td>      <th>  AIC:               </th> <td>   438.5</td>\n",
              "</tr>\n",
              "<tr>\n",
              "  <th>Df Residuals:</th>          <td>    91</td>      <th>  BIC:               </th> <td>   461.9</td>\n",
              "</tr>\n",
              "<tr>\n",
              "  <th>Df Model:</th>              <td>     8</td>      <th>                     </th>     <td> </td>   \n",
              "</tr>\n",
              "<tr>\n",
              "  <th>Covariance Type:</th>      <td>nonrobust</td>    <th>                     </th>     <td> </td>   \n",
              "</tr>\n",
              "</table>\n",
              "<table class=\"simpletable\">\n",
              "<tr>\n",
              "    <td></td>       <th>coef</th>     <th>std err</th>      <th>t</th>      <th>P>|t|</th>  <th>[0.025</th>    <th>0.975]</th>  \n",
              "</tr>\n",
              "<tr>\n",
              "  <th>const</th> <td>    0.6335</td> <td>    1.550</td> <td>    0.409</td> <td> 0.684</td> <td>   -2.446</td> <td>    3.713</td>\n",
              "</tr>\n",
              "<tr>\n",
              "  <th>x1</th>    <td>   -3.1197</td> <td>    6.237</td> <td>   -0.500</td> <td> 0.618</td> <td>  -15.508</td> <td>    9.269</td>\n",
              "</tr>\n",
              "<tr>\n",
              "  <th>x2</th>    <td>    7.2069</td> <td>    8.019</td> <td>    0.899</td> <td> 0.371</td> <td>   -8.722</td> <td>   23.135</td>\n",
              "</tr>\n",
              "<tr>\n",
              "  <th>x3</th>    <td>   -5.9515</td> <td>    4.602</td> <td>   -1.293</td> <td> 0.199</td> <td>  -15.092</td> <td>    3.189</td>\n",
              "</tr>\n",
              "<tr>\n",
              "  <th>x4</th>    <td>    2.0415</td> <td>    1.388</td> <td>    1.471</td> <td> 0.145</td> <td>   -0.716</td> <td>    4.799</td>\n",
              "</tr>\n",
              "<tr>\n",
              "  <th>x5</th>    <td>   -0.3359</td> <td>    0.236</td> <td>   -1.425</td> <td> 0.158</td> <td>   -0.804</td> <td>    0.132</td>\n",
              "</tr>\n",
              "<tr>\n",
              "  <th>x6</th>    <td>    0.0276</td> <td>    0.023</td> <td>    1.220</td> <td> 0.226</td> <td>   -0.017</td> <td>    0.073</td>\n",
              "</tr>\n",
              "<tr>\n",
              "  <th>x7</th>    <td>   -0.0011</td> <td>    0.001</td> <td>   -0.925</td> <td> 0.357</td> <td>   -0.003</td> <td>    0.001</td>\n",
              "</tr>\n",
              "<tr>\n",
              "  <th>x8</th>    <td> 1.418e-05</td> <td> 2.39e-05</td> <td>    0.594</td> <td> 0.554</td> <td>-3.33e-05</td> <td> 6.16e-05</td>\n",
              "</tr>\n",
              "</table>\n",
              "<table class=\"simpletable\">\n",
              "<tr>\n",
              "  <th>Omnibus:</th>       <td>11.607</td> <th>  Durbin-Watson:     </th> <td>   2.456</td>\n",
              "</tr>\n",
              "<tr>\n",
              "  <th>Prob(Omnibus):</th> <td> 0.003</td> <th>  Jarque-Bera (JB):  </th> <td>  12.576</td>\n",
              "</tr>\n",
              "<tr>\n",
              "  <th>Skew:</th>          <td>-0.700</td> <th>  Prob(JB):          </th> <td> 0.00186</td>\n",
              "</tr>\n",
              "<tr>\n",
              "  <th>Kurtosis:</th>      <td> 4.030</td> <th>  Cond. No.          </th> <td>5.83e+09</td>\n",
              "</tr>\n",
              "</table><br/><br/>Notes:<br/>[1] Standard Errors assume that the covariance matrix of the errors is correctly specified.<br/>[2] The condition number is large, 5.83e+09. This might indicate that there are<br/>strong multicollinearity or other numerical problems."
            ]
          },
          "metadata": {},
          "execution_count": 68
        }
      ],
      "source": [
        "# Your code here - prepare 8th degree polynomial data and fit a model\n",
        "poly = PolynomialFeatures(8)\n",
        "x_8 = poly.fit_transform(x) \n",
        "\n",
        "model_8 = sm.OLS(endog=y, exog=sm.add_constant(x_8))\n",
        "results_8 = model_8.fit() \n",
        "results_8.summary()"
      ]
    },
    {
      "cell_type": "code",
      "execution_count": 69,
      "metadata": {
        "id": "8cE2dIm2OQmK"
      },
      "outputs": [],
      "source": [
        "# Your code here - evaluate (adjusted) R-Squared and coefficient p-values\n"
      ]
    },
    {
      "cell_type": "code",
      "execution_count": 70,
      "metadata": {
        "colab": {
          "base_uri": "https://localhost:8080/",
          "height": 53
        },
        "id": "74k7-UEfOQmK",
        "outputId": "599fe3be-afeb-44f2-ec89-55313258d56a"
      },
      "outputs": [
        {
          "output_type": "execute_result",
          "data": {
            "text/plain": [
              "'\\nA look at our summary table shows us that despite our model being statistically significant and have a high adjusted R-squared, \\nnone of the predictors are statistically significant. \\n'"
            ],
            "application/vnd.google.colaboratory.intrinsic+json": {
              "type": "string"
            }
          },
          "metadata": {},
          "execution_count": 70
        }
      ],
      "source": [
        "# Your written answer here - summarize findings\n",
        "\"\"\"\n",
        "A look at our summary table shows us that despite our model being statistically significant and have a high adjusted R-squared, \n",
        "none of the predictors are statistically significant. \n",
        "\"\"\""
      ]
    },
    {
      "cell_type": "markdown",
      "metadata": {
        "id": "37MNK-tIOQmK"
      },
      "source": [
        "<details>\n",
        "    <summary style=\"cursor: pointer\"><b>Answer (click to reveal)</b></summary>\n",
        "    \n",
        "Our R-Squared is higher, but none of the coefficients are statistically significant at an alpha of 0.05 any more. If what we care about is an inferential understanding of the data, this is too high a degree of the polynomial.\n",
        "    \n",
        "</details>"
      ]
    },
    {
      "cell_type": "markdown",
      "metadata": {
        "id": "sgH-zSMFOQmK"
      },
      "source": [
        "## Plot All Models\n",
        "\n",
        "Build a single plot that shows the raw data as a scatter plot, as well as all of the models you have developed as line graphs. Make sure that everything is labeled so you can tell the different models apart!"
      ]
    },
    {
      "cell_type": "code",
      "execution_count": 71,
      "metadata": {
        "colab": {
          "base_uri": "https://localhost:8080/",
          "height": 798
        },
        "id": "h1BMv5NqOQmK",
        "outputId": "679cca78-a711-4677-9591-2c2e50a5f51f"
      },
      "outputs": [
        {
          "output_type": "error",
          "ename": "ValueError",
          "evalue": "ignored",
          "traceback": [
            "\u001b[0;31m---------------------------------------------------------------------------\u001b[0m",
            "\u001b[0;31mValueError\u001b[0m                                Traceback (most recent call last)",
            "\u001b[0;32m<ipython-input-71-6a311ce2ce51>\u001b[0m in \u001b[0;36m<cell line: 9>\u001b[0;34m()\u001b[0m\n\u001b[1;32m     10\u001b[0m     ax.plot(\n\u001b[1;32m     11\u001b[0m         \u001b[0mx\u001b[0m\u001b[0;34m,\u001b[0m \u001b[0;31m# plot same x values for every model\u001b[0m\u001b[0;34m\u001b[0m\u001b[0;34m\u001b[0m\u001b[0m\n\u001b[0;32m---> 12\u001b[0;31m         \u001b[0mmodel\u001b[0m\u001b[0;34m.\u001b[0m\u001b[0mpredict\u001b[0m\u001b[0;34m(\u001b[0m\u001b[0mdata\u001b[0m\u001b[0;34m[\u001b[0m\u001b[0mi\u001b[0m\u001b[0;34m]\u001b[0m\u001b[0;34m)\u001b[0m\u001b[0;34m,\u001b[0m \u001b[0;31m# generate predictions using relevant preprocessed data\u001b[0m\u001b[0;34m\u001b[0m\u001b[0;34m\u001b[0m\u001b[0m\n\u001b[0m\u001b[1;32m     13\u001b[0m         \u001b[0mlabel\u001b[0m\u001b[0;34m=\u001b[0m\u001b[0;34mf\"polynomial degree {(i + 1)*2}\"\u001b[0m\u001b[0;34m,\u001b[0m \u001b[0;31m# degree happens to be 2 times (i + 1)\u001b[0m\u001b[0;34m\u001b[0m\u001b[0;34m\u001b[0m\u001b[0m\n\u001b[1;32m     14\u001b[0m         \u001b[0mcolor\u001b[0m\u001b[0;34m=\u001b[0m\u001b[0mcolors\u001b[0m\u001b[0;34m[\u001b[0m\u001b[0mi\u001b[0m\u001b[0;34m]\u001b[0m\u001b[0;34m,\u001b[0m \u001b[0;31m# select color from list declared earlier\u001b[0m\u001b[0;34m\u001b[0m\u001b[0;34m\u001b[0m\u001b[0m\n",
            "\u001b[0;32m/usr/local/lib/python3.10/dist-packages/statsmodels/base/model.py\u001b[0m in \u001b[0;36mpredict\u001b[0;34m(self, exog, transform, *args, **kwargs)\u001b[0m\n\u001b[1;32m   1157\u001b[0m             \u001b[0mexog\u001b[0m \u001b[0;34m=\u001b[0m \u001b[0mnp\u001b[0m\u001b[0;34m.\u001b[0m\u001b[0matleast_2d\u001b[0m\u001b[0;34m(\u001b[0m\u001b[0mexog\u001b[0m\u001b[0;34m)\u001b[0m  \u001b[0;31m# needed in count model shape[1]\u001b[0m\u001b[0;34m\u001b[0m\u001b[0;34m\u001b[0m\u001b[0m\n\u001b[1;32m   1158\u001b[0m \u001b[0;34m\u001b[0m\u001b[0m\n\u001b[0;32m-> 1159\u001b[0;31m         predict_results = self.model.predict(self.params, exog, *args,\n\u001b[0m\u001b[1;32m   1160\u001b[0m                                              **kwargs)\n\u001b[1;32m   1161\u001b[0m \u001b[0;34m\u001b[0m\u001b[0m\n",
            "\u001b[0;32m/usr/local/lib/python3.10/dist-packages/statsmodels/regression/linear_model.py\u001b[0m in \u001b[0;36mpredict\u001b[0;34m(self, params, exog)\u001b[0m\n\u001b[1;32m    395\u001b[0m             \u001b[0mexog\u001b[0m \u001b[0;34m=\u001b[0m \u001b[0mself\u001b[0m\u001b[0;34m.\u001b[0m\u001b[0mexog\u001b[0m\u001b[0;34m\u001b[0m\u001b[0;34m\u001b[0m\u001b[0m\n\u001b[1;32m    396\u001b[0m \u001b[0;34m\u001b[0m\u001b[0m\n\u001b[0;32m--> 397\u001b[0;31m         \u001b[0;32mreturn\u001b[0m \u001b[0mnp\u001b[0m\u001b[0;34m.\u001b[0m\u001b[0mdot\u001b[0m\u001b[0;34m(\u001b[0m\u001b[0mexog\u001b[0m\u001b[0;34m,\u001b[0m \u001b[0mparams\u001b[0m\u001b[0;34m)\u001b[0m\u001b[0;34m\u001b[0m\u001b[0;34m\u001b[0m\u001b[0m\n\u001b[0m\u001b[1;32m    398\u001b[0m \u001b[0;34m\u001b[0m\u001b[0m\n\u001b[1;32m    399\u001b[0m     \u001b[0;32mdef\u001b[0m \u001b[0mget_distribution\u001b[0m\u001b[0;34m(\u001b[0m\u001b[0mself\u001b[0m\u001b[0;34m,\u001b[0m \u001b[0mparams\u001b[0m\u001b[0;34m,\u001b[0m \u001b[0mscale\u001b[0m\u001b[0;34m,\u001b[0m \u001b[0mexog\u001b[0m\u001b[0;34m=\u001b[0m\u001b[0;32mNone\u001b[0m\u001b[0;34m,\u001b[0m \u001b[0mdist_class\u001b[0m\u001b[0;34m=\u001b[0m\u001b[0;32mNone\u001b[0m\u001b[0;34m)\u001b[0m\u001b[0;34m:\u001b[0m\u001b[0;34m\u001b[0m\u001b[0;34m\u001b[0m\u001b[0m\n",
            "\u001b[0;32m/usr/local/lib/python3.10/dist-packages/numpy/core/overrides.py\u001b[0m in \u001b[0;36mdot\u001b[0;34m(*args, **kwargs)\u001b[0m\n",
            "\u001b[0;31mValueError\u001b[0m: shapes (100,2) and (3,) not aligned: 2 (dim 1) != 3 (dim 0)"
          ]
        },
        {
          "output_type": "display_data",
          "data": {
            "text/plain": [
              "<Figure size 1000x600 with 1 Axes>"
            ],
            "image/png": "[encoded data removed]"
          },
          "metadata": {}
        }
      ],
      "source": [
        "# Your code here\n",
        "fig, ax = plt.subplots(figsize=(10, 6))\n",
        "\n",
        "models = [results_2, results_4, results_8]\n",
        "data = [x_2, x_4, x_8]\n",
        "colors = ['yellow', 'lightgreen', 'cyan']\n",
        "\n",
        "ax.scatter(x, y, label=\"data points\", color=\"black\")\n",
        "for i, model in enumerate(models):\n",
        "    ax.plot(\n",
        "        x, # plot same x values for every model\n",
        "        model.predict(data[i]), # generate predictions using relevant preprocessed data\n",
        "        label=f\"polynomial degree {(i + 1)*2}\", # degree happens to be 2 times (i + 1)\n",
        "        color=colors[i], # select color from list declared earlier\n",
        "        linewidth=5,\n",
        "        alpha=0.7\n",
        "    )\n",
        "    \n",
        "ax.legend();\n",
        "\n",
        "\n"
      ]
    },
    {
      "cell_type": "markdown",
      "metadata": {
        "id": "L1gRI7_qOQmK"
      },
      "source": [
        "### Interpret Findings\n",
        "\n",
        "Based on the metrics as well as the graphs, which model do you think is the best? Why?"
      ]
    },
    {
      "cell_type": "code",
      "execution_count": null,
      "metadata": {
        "id": "mdR4O4cAOQmK"
      },
      "outputs": [],
      "source": [
        "# Your written answer here\n"
      ]
    },
    {
      "cell_type": "markdown",
      "metadata": {
        "id": "EYxg1uBaOQmK"
      },
      "source": [
        "<details>\n",
        "    <summary style=\"cursor: pointer\"><b>Answer (click to reveal)</b></summary>\n",
        "    \n",
        "The quadratic model (polynomial degree 2) is definitely not the best based on all of the evidence we have. It has the worst R-Squared, the coefficient p-values are not significant, and you can see from the graph that there is a lot of variance in the data that it is not picking up on.\n",
        "\n",
        "Our visual inspection aligns with the worse R-Squared for the 4th degree polynomial compared to the 8th degree polynomial. The 4th degree polynomial is flatter and doesn't seem to capture the extremes of the data as well.\n",
        "    \n",
        "However if we wanted to interpret the coefficients, then only the 4th degree polynomial has statistically significant results. The interpretation would be challenging because of the number of terms, but we could apply some calculus techniques to describe inflection points.\n",
        "\n",
        "Overall it appears that this dataset is not particularly well suited to an inferential linear regression approach, even with polynomial transformations. So the \"best\" model could be either the 4th or 8th degree polynomial depending on which aspect of the model is more important to you, but either way it will be challenging to translate it into insights for stakeholders.\n",
        "    \n",
        "</details>"
      ]
    },
    {
      "cell_type": "markdown",
      "metadata": {
        "id": "EaYjd9D_OQmK"
      },
      "source": [
        "## Summary"
      ]
    },
    {
      "cell_type": "markdown",
      "metadata": {
        "id": "j60utK_OOQmL"
      },
      "source": [
        "Great job! You now know how to include polynomials in your linear models as well as the limitations of applying polynomial regression. "
      ]
    }
  ],
  "metadata": {
    "kernelspec": {
      "display_name": "Python (learn-env)",
      "language": "python",
      "name": "learn-env"
    },
    "language_info": {
      "codemirror_mode": {
        "name": "ipython",
        "version": 3
      },
      "file_extension": ".py",
      "mimetype": "text/x-python",
      "name": "python",
      "nbconvert_exporter": "python",
      "pygments_lexer": "ipython3",
      "version": "3.8.5"
    },
    "colab": {
      "provenance": []
    }
  },
  "nbformat": 4,
  "nbformat_minor": 0
}